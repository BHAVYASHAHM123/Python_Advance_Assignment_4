{
  "nbformat": 4,
  "nbformat_minor": 0,
  "metadata": {
    "colab": {
      "name": "Python_Advance_Assignment_4.ipynb",
      "provenance": []
    },
    "kernelspec": {
      "name": "python3",
      "display_name": "Python 3"
    },
    "language_info": {
      "name": "python"
    }
  },
  "cells": [
    {
      "cell_type": "markdown",
      "source": [
        "Q1). Which two operator overloading methods can you use in your classes to support iteration?\n",
        "\n",
        "Ans) + Add operator"
      ],
      "metadata": {
        "id": "DtoTzeJs7Y80"
      }
    },
    {
      "cell_type": "markdown",
      "source": [
        " Q2) In what contexts do the two operator overloading methods manage printing?\n",
        "\n",
        " Ans) \"+\" operator for adding two integers as well as joining two strings or merging two lists."
      ],
      "metadata": {
        "id": "4jQknVGL7Y5T"
      }
    },
    {
      "cell_type": "markdown",
      "source": [
        "Q3). In a class, how do you intercept slice operations?\n",
        "\n",
        "Ans) Slice constructor to create slice object.\n",
        "\n",
        "Start an integer number specifying start index.It is optional and default is 0.\n",
        "\n",
        "Stop an integer number specifying end index.\n",
        "\n",
        "An integer number specifying the step of slicing. It is optional and default is 1."
      ],
      "metadata": {
        "id": "PaG_O9Ik7Y2l"
      }
    },
    {
      "cell_type": "markdown",
      "source": [
        "Q4). In a class, how do you capture in-place addition?\n",
        "\n",
        "Ans) The operators which helps to do the operation is called in-place operator. Eg: a+= b is equivalent to a= operator.iadd(a, b)"
      ],
      "metadata": {
        "id": "6Wpk-A9N7Y0J"
      }
    },
    {
      "cell_type": "markdown",
      "source": [
        "Q5) . When is it appropriate to use operator overloading?\n",
        "\n",
        "Ans) when you're making a new class that falls into an existing Abstract Base Class"
      ],
      "metadata": {
        "id": "pQvkNt8d7YxW"
      }
    }
  ]
}